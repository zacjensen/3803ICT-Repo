{
 "cells": [
  {
   "cell_type": "code",
   "execution_count": 13,
   "id": "dbf15c14-7f81-4727-887a-8f1a72621dbf",
   "metadata": {},
   "outputs": [
    {
     "name": "stdout",
     "output_type": "stream",
     "text": [
      "['h', 'e']\n"
     ]
    }
   ],
   "source": [
    "def copy_bs(bs, cs):\n",
    "    x = list(bs)\n",
    "    \n",
    "    for l in cs:\n",
    "        while l in x:\n",
    "            x.remove(l)\n",
    "            \n",
    "    print(x)\n",
    "    \n",
    "copy_bs(\"hello\", \"world\")"
   ]
  },
  {
   "cell_type": "code",
   "execution_count": null,
   "id": "db44f73d-c35c-499d-b405-906455254d9c",
   "metadata": {},
   "outputs": [],
   "source": []
  }
 ],
 "metadata": {
  "kernelspec": {
   "display_name": "Python 3 (ipykernel)",
   "language": "python",
   "name": "python3"
  },
  "language_info": {
   "codemirror_mode": {
    "name": "ipython",
    "version": 3
   },
   "file_extension": ".py",
   "mimetype": "text/x-python",
   "name": "python",
   "nbconvert_exporter": "python",
   "pygments_lexer": "ipython3",
   "version": "3.10.2"
  }
 },
 "nbformat": 4,
 "nbformat_minor": 5
}
