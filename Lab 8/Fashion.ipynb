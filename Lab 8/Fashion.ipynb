{
 "cells": [
  {
   "cell_type": "markdown",
   "metadata": {},
   "source": [
    "# Image Classification by MLP - Fashion MNIST"
   ]
  },
  {
   "cell_type": "markdown",
   "metadata": {},
   "source": [
    "In this exercise, we will try to use a neural network on a simple classification task: classifying images of clothes into 10 classes."
   ]
  },
  {
   "cell_type": "markdown",
   "metadata": {},
   "source": [
    "We will first download the data:"
   ]
  },
  {
   "cell_type": "code",
   "execution_count": 6,
   "metadata": {
    "scrolled": true
   },
   "outputs": [
    {
     "data": {
      "text/plain": [
       "(60000, 28, 28)"
      ]
     },
     "execution_count": 6,
     "metadata": {},
     "output_type": "execute_result"
    }
   ],
   "source": [
    "from tensorflow.keras.datasets import fashion_mnist\n",
    "\n",
    "#TODO: load dataset\n",
    "(X_train, y_train), (X_test, y_test) = fashion_mnist.load_data()\n",
    "\n",
    "# #TODO: Resample the dataset if needed\n",
    "# X_train = ...\n",
    "# y_train = ...\n",
    "# X_test = ...\n",
    "# y_test = ...\n",
    "\n",
    "X_train.shape"
   ]
  },
  {
   "cell_type": "markdown",
   "metadata": {},
   "source": [
    "This dataset contains 10 classes:\n",
    "* 0:\tT-shirt/top\n",
    "* 1:\tTrouser\n",
    "* 2:\tPullover\n",
    "* 3:\tDress\n",
    "* 4:\tCoat\n",
    "* 5:\tSandal\n",
    "* 6:\tShirt\n",
    "* 7:\tSneaker\n",
    "* 8:\tBag\n",
    "* 9:\tAnkle boot"
   ]
  },
  {
   "cell_type": "markdown",
   "metadata": {},
   "source": [
    "Now begin by exploring the data. Try to display some images with the associated label."
   ]
  },
  {
   "cell_type": "code",
   "execution_count": 33,
   "metadata": {
    "scrolled": true
   },
   "outputs": [
    {
     "data": {
      "image/png": "[encoded data removed]",
      "text/plain": [
       "<Figure size 432x288 with 1 Axes>"
      ]
     },
     "metadata": {
      "needs_background": "light"
     },
     "output_type": "display_data"
    }
   ],
   "source": [
    "# TODO: Explore the data, display some input images\n",
    "%matplotlib inline\n",
    "import matplotlib.pyplot as plt\n",
    "import numpy as np\n",
    "\n",
    "label_class = ['top', 'trouser', 'pullover', 'dress', 'coat', 'sandal', 'shirt', 'sneaker', 'bag', 'ankle boot']\n",
    "\n",
    "#np.random.seed(0)\n",
    "idx = np.random.randint(X_train.shape[0])\n",
    "\n",
    "plt.imshow(X_train[idx], cmap=\"gray_r\")\n",
    "plt.title(label_class[y_train[idx]])\n",
    "plt.show()"
   ]
  },
  {
   "cell_type": "markdown",
   "metadata": {},
   "source": [
    "**Before going further**: what methods could you use to perform such a classification task?"
   ]
  },
  {
   "cell_type": "markdown",
   "metadata": {},
   "source": [
    "---"
   ]
  },
  {
   "cell_type": "markdown",
   "metadata": {},
   "source": [
    "The first method you will try is using neural networks. First step is the data preparation: data rescaling, label preparation.\n",
    "\n",
    "Hint: you can use the Keras function `to_categorical`"
   ]
  },
  {
   "cell_type": "code",
   "execution_count": 39,
   "metadata": {},
   "outputs": [
    {
     "name": "stdout",
     "output_type": "stream",
     "text": [
      "[[0. 0. 0. ... 0. 0. 0.]\n",
      " [0. 0. 0. ... 0. 0. 0.]\n",
      " [0. 0. 0. ... 0. 0. 0.]\n",
      " [0. 0. 0. ... 0. 0. 0.]\n",
      " [0. 0. 0. ... 0. 0. 0.]]\n"
     ]
    }
   ],
   "source": [
    "# TODO: Make the data preparation\n",
    "from tensorflow.keras.utils import to_categorical\n",
    "\n",
    "y_train_cat = to_categorical(y_train)\n",
    "y_test_cat = to_categorical(y_test)\n",
    "\n",
    "X_train_norm = X_train/255\n",
    "X_test_norm = X_test/255\n",
    "\n",
    "# TODO: reshape the image data (2D array) into input 1D array for a neural network\n",
    "\n",
    "X_train_norm = X_train_norm.reshape(X_train_norm.shape[0], np.prod(X_train_norm.shape[1:]))\n",
    "X_test_norm = X_test_norm.reshape(X_test_norm.shape[0], np.prod(X_test_norm.shape[1:]))\n",
    "\n",
    "print(X_test_norm[:5])"
   ]
  },
  {
   "cell_type": "markdown",
   "metadata": {},
   "source": [
    "Next step: model building with Keras. Build your neural network architecture. At first, I would recommend a light architecture: no more than 2 hidden layers, with about 10 units per layer. Put that model into a function, so that you can reuse it later."
   ]
  },
  {
   "cell_type": "code",
   "execution_count": 44,
   "metadata": {},
   "outputs": [],
   "source": [
    "# TODO: Build your model\n",
    "from tensorflow.keras import Input\n",
    "from tensorflow.keras.models import Sequential\n",
    "from tensorflow.keras.layers import Dense\n",
    "\n",
    "def my_model(input_dim):\n",
    "    # Create the Sequential object\n",
    "    model = Sequential()\n",
    "\n",
    "    # Add 2 dense layers with 10 neurons each using sigmoid or relu activation\n",
    "    model.add(Input(shape=(784,)))\n",
    "    model.add(Dense(10, activation=\"sigmoid\"))\n",
    "    model.add(Dense(10, activation=\"relu\"))\n",
    "    \n",
    "    # Add the output layer with one unit: the predicted result\n",
    "    model.add(Dense(10, activation='softmax'))\n",
    "    \n",
    "    return model"
   ]
  },
  {
   "cell_type": "markdown",
   "metadata": {},
   "source": [
    "Now compile and fit your model on your training data. Since this is a multiclass classification, the loss is not `binary_crossentropy` anymore, but `categorical_crossentropy`."
   ]
  },
  {
   "cell_type": "code",
   "execution_count": 45,
   "metadata": {
    "scrolled": true
   },
   "outputs": [
    {
     "name": "stdout",
     "output_type": "stream",
     "text": [
      "Epoch 1/100\n",
      "469/469 [==============================] - 3s 3ms/step - loss: 1.7149 - accuracy: 0.4454\n",
      "Epoch 2/100\n",
      "469/469 [==============================] - 1s 3ms/step - loss: 0.7380 - accuracy: 0.7617\n",
      "Epoch 3/100\n",
      "469/469 [==============================] - 1s 3ms/step - loss: 0.5531 - accuracy: 0.8099: 0s - loss: 0.5594 - \n",
      "Epoch 4/100\n",
      "469/469 [==============================] - 2s 3ms/step - loss: 0.4873 - accuracy: 0.8309\n",
      "Epoch 5/100\n",
      "469/469 [==============================] - 1s 3ms/step - loss: 0.4597 - accuracy: 0.8388\n",
      "Epoch 6/100\n",
      "469/469 [==============================] - 1s 3ms/step - loss: 0.4388 - accuracy: 0.8461\n",
      "Epoch 7/100\n",
      "469/469 [==============================] - 1s 3ms/step - loss: 0.4256 - accuracy: 0.8509\n",
      "Epoch 8/100\n",
      "469/469 [==============================] - 1s 3ms/step - loss: 0.4074 - accuracy: 0.8558\n",
      "Epoch 9/100\n",
      "469/469 [==============================] - 1s 3ms/step - loss: 0.4003 - accuracy: 0.8602\n",
      "Epoch 10/100\n",
      "469/469 [==============================] - 1s 3ms/step - loss: 0.3901 - accuracy: 0.8620\n",
      "Epoch 11/100\n",
      "469/469 [==============================] - 2s 3ms/step - loss: 0.3814 - accuracy: 0.8646\n",
      "Epoch 12/100\n",
      "469/469 [==============================] - 1s 3ms/step - loss: 0.3787 - accuracy: 0.8666\n",
      "Epoch 13/100\n",
      "469/469 [==============================] - 1s 3ms/step - loss: 0.3738 - accuracy: 0.8664\n",
      "Epoch 14/100\n",
      "469/469 [==============================] - 2s 3ms/step - loss: 0.3740 - accuracy: 0.8663\n",
      "Epoch 15/100\n",
      "469/469 [==============================] - 1s 3ms/step - loss: 0.3697 - accuracy: 0.8701\n",
      "Epoch 16/100\n",
      "469/469 [==============================] - 1s 3ms/step - loss: 0.3651 - accuracy: 0.8699\n",
      "Epoch 17/100\n",
      "469/469 [==============================] - 1s 3ms/step - loss: 0.3650 - accuracy: 0.8705\n",
      "Epoch 18/100\n",
      "469/469 [==============================] - 1s 3ms/step - loss: 0.3600 - accuracy: 0.8721\n",
      "Epoch 19/100\n",
      "469/469 [==============================] - 1s 3ms/step - loss: 0.3567 - accuracy: 0.8742\n",
      "Epoch 20/100\n",
      "469/469 [==============================] - 1s 3ms/step - loss: 0.3551 - accuracy: 0.8742\n",
      "Epoch 21/100\n",
      "469/469 [==============================] - 1s 3ms/step - loss: 0.3503 - accuracy: 0.8754\n",
      "Epoch 22/100\n",
      "469/469 [==============================] - 1s 3ms/step - loss: 0.3478 - accuracy: 0.8757\n",
      "Epoch 23/100\n",
      "469/469 [==============================] - 1s 3ms/step - loss: 0.3440 - accuracy: 0.8778\n",
      "Epoch 24/100\n",
      "469/469 [==============================] - 1s 3ms/step - loss: 0.3457 - accuracy: 0.8757\n",
      "Epoch 25/100\n",
      "469/469 [==============================] - 1s 3ms/step - loss: 0.3431 - accuracy: 0.8777\n",
      "Epoch 26/100\n",
      "469/469 [==============================] - 2s 4ms/step - loss: 0.3398 - accuracy: 0.8786\n",
      "Epoch 27/100\n",
      "469/469 [==============================] - 2s 3ms/step - loss: 0.3425 - accuracy: 0.8773\n",
      "Epoch 28/100\n",
      "469/469 [==============================] - 2s 3ms/step - loss: 0.3380 - accuracy: 0.8792\n",
      "Epoch 29/100\n",
      "469/469 [==============================] - 2s 3ms/step - loss: 0.3374 - accuracy: 0.8796\n",
      "Epoch 30/100\n",
      "469/469 [==============================] - 1s 3ms/step - loss: 0.3403 - accuracy: 0.8789\n",
      "Epoch 31/100\n",
      "469/469 [==============================] - 1s 3ms/step - loss: 0.3309 - accuracy: 0.8815\n",
      "Epoch 32/100\n",
      "469/469 [==============================] - 2s 3ms/step - loss: 0.3387 - accuracy: 0.8781\n",
      "Epoch 33/100\n",
      "469/469 [==============================] - 2s 3ms/step - loss: 0.3334 - accuracy: 0.8814\n",
      "Epoch 34/100\n",
      "469/469 [==============================] - 2s 3ms/step - loss: 0.3306 - accuracy: 0.8830\n",
      "Epoch 35/100\n",
      "469/469 [==============================] - 2s 3ms/step - loss: 0.3262 - accuracy: 0.8834\n",
      "Epoch 36/100\n",
      "469/469 [==============================] - 1s 3ms/step - loss: 0.3307 - accuracy: 0.8817\n",
      "Epoch 37/100\n",
      "469/469 [==============================] - 1s 3ms/step - loss: 0.3311 - accuracy: 0.8826\n",
      "Epoch 38/100\n",
      "469/469 [==============================] - 1s 3ms/step - loss: 0.3264 - accuracy: 0.8821\n",
      "Epoch 39/100\n",
      "469/469 [==============================] - 1s 3ms/step - loss: 0.3332 - accuracy: 0.8794\n",
      "Epoch 40/100\n",
      "469/469 [==============================] - 1s 3ms/step - loss: 0.3270 - accuracy: 0.8830\n",
      "Epoch 41/100\n",
      "469/469 [==============================] - 2s 3ms/step - loss: 0.3284 - accuracy: 0.8829\n",
      "Epoch 42/100\n",
      "469/469 [==============================] - 1s 3ms/step - loss: 0.3234 - accuracy: 0.8841\n",
      "Epoch 43/100\n",
      "469/469 [==============================] - 1s 3ms/step - loss: 0.3241 - accuracy: 0.8836\n",
      "Epoch 44/100\n",
      "469/469 [==============================] - 1s 3ms/step - loss: 0.3234 - accuracy: 0.8832\n",
      "Epoch 45/100\n",
      "469/469 [==============================] - 1s 3ms/step - loss: 0.3302 - accuracy: 0.8826\n",
      "Epoch 46/100\n",
      "469/469 [==============================] - 2s 3ms/step - loss: 0.3188 - accuracy: 0.8861\n",
      "Epoch 47/100\n",
      "469/469 [==============================] - 1s 3ms/step - loss: 0.3234 - accuracy: 0.8842\n",
      "Epoch 48/100\n",
      "469/469 [==============================] - 1s 3ms/step - loss: 0.3194 - accuracy: 0.8858\n",
      "Epoch 49/100\n",
      "469/469 [==============================] - 1s 3ms/step - loss: 0.3173 - accuracy: 0.8857\n",
      "Epoch 50/100\n",
      "469/469 [==============================] - 1s 3ms/step - loss: 0.3177 - accuracy: 0.8861\n",
      "Epoch 51/100\n",
      "469/469 [==============================] - 1s 3ms/step - loss: 0.3105 - accuracy: 0.8876\n",
      "Epoch 52/100\n",
      "469/469 [==============================] - 2s 3ms/step - loss: 0.3225 - accuracy: 0.8856\n",
      "Epoch 53/100\n",
      "469/469 [==============================] - 1s 3ms/step - loss: 0.3208 - accuracy: 0.8848\n",
      "Epoch 54/100\n",
      "469/469 [==============================] - 1s 3ms/step - loss: 0.3098 - accuracy: 0.8882\n",
      "Epoch 55/100\n",
      "469/469 [==============================] - 1s 3ms/step - loss: 0.3108 - accuracy: 0.8886\n",
      "Epoch 56/100\n",
      "469/469 [==============================] - 1s 3ms/step - loss: 0.3143 - accuracy: 0.8862\n",
      "Epoch 57/100\n",
      "469/469 [==============================] - 1s 3ms/step - loss: 0.3113 - accuracy: 0.8898\n",
      "Epoch 58/100\n",
      "469/469 [==============================] - 1s 3ms/step - loss: 0.3113 - accuracy: 0.8882\n",
      "Epoch 59/100\n",
      "469/469 [==============================] - 1s 3ms/step - loss: 0.3130 - accuracy: 0.8861\n",
      "Epoch 60/100\n",
      "469/469 [==============================] - 1s 3ms/step - loss: 0.3100 - accuracy: 0.8875\n",
      "Epoch 61/100\n",
      "469/469 [==============================] - 1s 3ms/step - loss: 0.3102 - accuracy: 0.8896\n",
      "Epoch 62/100\n",
      "469/469 [==============================] - 1s 3ms/step - loss: 0.3177 - accuracy: 0.8863\n",
      "Epoch 63/100\n",
      "469/469 [==============================] - 1s 3ms/step - loss: 0.3105 - accuracy: 0.8882\n",
      "Epoch 64/100\n",
      "469/469 [==============================] - 1s 3ms/step - loss: 0.3098 - accuracy: 0.8871\n",
      "Epoch 65/100\n",
      "469/469 [==============================] - 1s 3ms/step - loss: 0.3026 - accuracy: 0.8917\n",
      "Epoch 66/100\n",
      "469/469 [==============================] - 1s 3ms/step - loss: 0.3081 - accuracy: 0.8884\n",
      "Epoch 67/100\n",
      "469/469 [==============================] - 1s 3ms/step - loss: 0.3069 - accuracy: 0.8902\n",
      "Epoch 68/100\n",
      "469/469 [==============================] - 1s 3ms/step - loss: 0.3063 - accuracy: 0.8892: 0s - loss: 0.3063 - accuracy: 0.88\n",
      "Epoch 69/100\n",
      "469/469 [==============================] - 1s 3ms/step - loss: 0.3071 - accuracy: 0.8886\n",
      "Epoch 70/100\n",
      "469/469 [==============================] - 1s 3ms/step - loss: 0.3103 - accuracy: 0.8890\n",
      "Epoch 71/100\n",
      "469/469 [==============================] - 1s 3ms/step - loss: 0.3063 - accuracy: 0.8918\n",
      "Epoch 72/100\n",
      "469/469 [==============================] - 1s 3ms/step - loss: 0.3034 - accuracy: 0.8906\n",
      "Epoch 73/100\n",
      "469/469 [==============================] - 1s 3ms/step - loss: 0.3028 - accuracy: 0.8897\n",
      "Epoch 74/100\n",
      "469/469 [==============================] - 2s 3ms/step - loss: 0.3030 - accuracy: 0.8903\n",
      "Epoch 75/100\n",
      "469/469 [==============================] - 2s 3ms/step - loss: 0.3042 - accuracy: 0.8902\n",
      "Epoch 76/100\n",
      "469/469 [==============================] - 2s 3ms/step - loss: 0.3058 - accuracy: 0.8912\n",
      "Epoch 77/100\n",
      "469/469 [==============================] - 1s 3ms/step - loss: 0.3026 - accuracy: 0.8919\n",
      "Epoch 78/100\n",
      "469/469 [==============================] - 1s 3ms/step - loss: 0.3038 - accuracy: 0.8932\n",
      "Epoch 79/100\n",
      "469/469 [==============================] - 1s 3ms/step - loss: 0.2983 - accuracy: 0.8931\n",
      "Epoch 80/100\n",
      "469/469 [==============================] - 2s 3ms/step - loss: 0.3049 - accuracy: 0.8899\n",
      "Epoch 81/100\n",
      "469/469 [==============================] - 2s 3ms/step - loss: 0.2982 - accuracy: 0.8917\n",
      "Epoch 82/100\n",
      "469/469 [==============================] - 1s 3ms/step - loss: 0.3008 - accuracy: 0.8934\n",
      "Epoch 83/100\n",
      "469/469 [==============================] - 1s 3ms/step - loss: 0.2997 - accuracy: 0.8926\n",
      "Epoch 84/100\n",
      "469/469 [==============================] - 1s 3ms/step - loss: 0.2977 - accuracy: 0.8921\n",
      "Epoch 85/100\n",
      "469/469 [==============================] - 1s 3ms/step - loss: 0.3011 - accuracy: 0.8937\n",
      "Epoch 86/100\n",
      "469/469 [==============================] - 1s 3ms/step - loss: 0.2950 - accuracy: 0.8953\n",
      "Epoch 87/100\n",
      "469/469 [==============================] - 1s 3ms/step - loss: 0.2982 - accuracy: 0.8922\n",
      "Epoch 88/100\n",
      "469/469 [==============================] - 1s 3ms/step - loss: 0.2983 - accuracy: 0.8921\n",
      "Epoch 89/100\n",
      "469/469 [==============================] - 1s 3ms/step - loss: 0.3003 - accuracy: 0.8919\n",
      "Epoch 90/100\n",
      "469/469 [==============================] - 1s 3ms/step - loss: 0.2934 - accuracy: 0.8933\n",
      "Epoch 91/100\n",
      "469/469 [==============================] - 1s 3ms/step - loss: 0.2952 - accuracy: 0.8939\n",
      "Epoch 92/100\n",
      "469/469 [==============================] - 2s 3ms/step - loss: 0.2960 - accuracy: 0.8940\n",
      "Epoch 93/100\n",
      "469/469 [==============================] - 1s 3ms/step - loss: 0.2954 - accuracy: 0.8949\n",
      "Epoch 94/100\n",
      "469/469 [==============================] - 1s 3ms/step - loss: 0.3020 - accuracy: 0.8923\n",
      "Epoch 95/100\n",
      "469/469 [==============================] - 2s 3ms/step - loss: 0.2926 - accuracy: 0.8949\n",
      "Epoch 96/100\n",
      "469/469 [==============================] - 2s 3ms/step - loss: 0.2964 - accuracy: 0.8931\n",
      "Epoch 97/100\n",
      "469/469 [==============================] - 2s 3ms/step - loss: 0.2968 - accuracy: 0.8937\n",
      "Epoch 98/100\n",
      "469/469 [==============================] - 1s 3ms/step - loss: 0.2936 - accuracy: 0.8946\n",
      "Epoch 99/100\n",
      "469/469 [==============================] - 2s 3ms/step - loss: 0.2940 - accuracy: 0.8929\n",
      "Epoch 100/100\n",
      "469/469 [==============================] - 1s 3ms/step - loss: 0.2942 - accuracy: 0.8946\n"
     ]
    },
    {
     "data": {
      "text/plain": [
       "<tensorflow.python.keras.callbacks.History at 0x2949743a3d0>"
      ]
     },
     "execution_count": 45,
     "metadata": {},
     "output_type": "execute_result"
    }
   ],
   "source": [
    "import os\n",
    "\n",
    "#https://stackoverflow.com/questions/53014306/error-15-initializing-libiomp5-dylib-but-found-libiomp5-dylib-already-initial\n",
    "# os.environ['KMP_DUPLICATE_LIB_OK']='True' \n",
    "\n",
    "# TODO: Compile and fit your model\n",
    "model = my_model(X_train_norm.shape[1])\n",
    "\n",
    "model.compile(optimizer='adam', loss='categorical_crossentropy', metrics=['accuracy'])\n",
    "\n",
    "model.fit(X_train_norm, y_train_cat, epochs=100, batch_size=128)"
   ]
  },
  {
   "cell_type": "markdown",
   "metadata": {},
   "source": [
    "Once your model has been trained, compute the accuracy (and other metrics if you want) on the train and test dataset.\n",
    "\n",
    "Be careful, Keras returns softmax output (so an array of 10 values between 0 and 1, for which the sum is equal to 1). To compute correctly the accuracy, you have to convert that array into a categorical array with zeros and a 1."
   ]
  },
  {
   "cell_type": "code",
   "execution_count": 46,
   "metadata": {},
   "outputs": [
    {
     "name": "stdout",
     "output_type": "stream",
     "text": [
      "accuracy on train with NN: 0.8936333060264587\n",
      "accuracy on test with NN: 0.8531000018119812\n"
     ]
    }
   ],
   "source": [
    "# TODO: Compute the accuracy of your model\n",
    "print('accuracy on train with NN:', model.evaluate(X_train_norm, y_train_cat, verbose=0)[1])\n",
    "print('accuracy on test with NN:', model.evaluate(X_test_norm, y_test_cat, verbose=0)[1])"
   ]
  },
  {
   "cell_type": "markdown",
   "metadata": {},
   "source": [
    "What do you think of those results? Can you improve it by changing the number of layers? Of units per layer? The number of epochs? The activation functions?\n",
    "\n",
    "You should try!"
   ]
  },
  {
   "cell_type": "markdown",
   "metadata": {},
   "source": [
    "---"
   ]
  },
  {
   "cell_type": "markdown",
   "metadata": {},
   "source": [
    "In order to compare your results with more traditional machine learning methods, you will do this work with another method: a PCA followed by a classification model (of your choice). Of course, you can perform hyperparameter optimization using a gridsearch on that model!\n",
    "\n",
    "Fit your model and display the performances."
   ]
  },
  {
   "cell_type": "code",
   "execution_count": 48,
   "metadata": {},
   "outputs": [],
   "source": [
    "# TODO: Redo the classification with PCA and classification model\n",
    "from sklearn.decomposition import PCA\n",
    "\n",
    "pca = PCA(n_components=100)\n",
    "\n",
    "pca.fit(X_train_norm)\n",
    "X_train_pca = pca.transform(X_train_norm)\n",
    "X_test_pca = pca.transform(X_test_norm)"
   ]
  },
  {
   "cell_type": "code",
   "execution_count": 49,
   "metadata": {},
   "outputs": [
    {
     "name": "stdout",
     "output_type": "stream",
     "text": [
      "score with RF on train 1.0\n",
      "score with RF on train 0.8612\n"
     ]
    }
   ],
   "source": [
    "# TODO: use any classifier you want\n",
    "from sklearn.ensemble import RandomForestClassifier\n",
    "\n",
    "rf = RandomForestClassifier()\n",
    "\n",
    "rf.fit(X_train_pca, y_train)\n",
    "\n",
    "print('score with RF on train', rf.score(X_train_pca, y_train))\n",
    "print('score with RF on train', rf.score(X_test_pca, y_test))"
   ]
  },
  {
   "cell_type": "markdown",
   "metadata": {},
   "source": [
    "Are the performances different? Can you explain why?"
   ]
  },
  {
   "cell_type": "markdown",
   "metadata": {},
   "source": [
    "If you still have time, you could try to use scikit-learn's `Pipeline` to perform the hyperparameter optimization jointly on the PCA and the classification model. This might improve your performances."
   ]
  }
 ],
 "metadata": {
  "kernelspec": {
   "display_name": "Python 3 (ipykernel)",
   "language": "python",
   "name": "python3"
  },
  "language_info": {
   "codemirror_mode": {
    "name": "ipython",
    "version": 3
   },
   "file_extension": ".py",
   "mimetype": "text/x-python",
   "name": "python",
   "nbconvert_exporter": "python",
   "pygments_lexer": "ipython3",
   "version": "3.8.8"
  },
  "toc": {
   "base_numbering": 1,
   "nav_menu": {},
   "number_sections": true,
   "sideBar": true,
   "skip_h1_title": false,
   "title_cell": "Table of Contents",
   "title_sidebar": "Contents",
   "toc_cell": false,
   "toc_position": {},
   "toc_section_display": true,
   "toc_window_display": false
  }
 },
 "nbformat": 4,
 "nbformat_minor": 4
}
