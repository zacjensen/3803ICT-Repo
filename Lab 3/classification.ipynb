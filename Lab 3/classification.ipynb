{
 "cells": [
  {
   "cell_type": "code",
   "execution_count": 1,
   "id": "ac97cacf-0e42-4fa7-9bea-ca3d8507046b",
   "metadata": {},
   "outputs": [],
   "source": [
    "# imports\n",
    "from sklearn import datasets\n",
    "from sklearn.model_selection import train_test_split\n",
    "from sklearn.neighbors import KNeighborsClassifier, NearestNeighbors\n",
    "from sklearn.metrics import classification_report, confusion_matrix\n",
    "from sklearn.preprocessing import StandardScaler\n",
    "from sklearn.naive_bayes import GaussianNB\n",
    "from sklearn.pipeline import make_pipeline\n",
    "from sklearn.svm import SVC\n",
    "import numpy as np\n",
    "import matplotlib.pyplot as plt"
   ]
  },
  {
   "cell_type": "code",
   "execution_count": 2,
   "id": "57fa43e8-9c1f-4f10-afa3-c5fe2822c927",
   "metadata": {},
   "outputs": [],
   "source": [
    "# load the dataset\n",
    "digits = datasets.load_digits()"
   ]
  },
  {
   "cell_type": "code",
   "execution_count": 3,
   "id": "3145267e-5822-40de-8b53-16249277007e",
   "metadata": {},
   "outputs": [],
   "source": [
    "# create feature and target arrays\n",
    "x = digits.data\n",
    "y = digits.target\n",
    "\n",
    "# Split into training and testing set\n",
    "x_train, x_test, y_train, y_test = train_test_split(x, y, test_size = 0.2)"
   ]
  },
  {
   "cell_type": "code",
   "execution_count": 4,
   "id": "d482ecb9-5942-4835-aa3c-db30e457b7c6",
   "metadata": {},
   "outputs": [],
   "source": [
    "# Create and fit the kNN classifier for the number of neighbours in the range k=1-10\n",
    "# Store the accuracy for plotting\n",
    "train_scores = []\n",
    "test_scores = []\n",
    "\n",
    "for k in range(1, 11, 1):\n",
    "    neigh = KNeighborsClassifier(n_neighbors=k)\n",
    "    neigh.fit(x_train, y_train)\n",
    "    train_scores.append(neigh.score(x_train, y_train))\n",
    "    test_scores.append(neigh.score(x_test, y_test))"
   ]
  },
  {
   "cell_type": "code",
   "execution_count": 16,
   "id": "0ee11907-4863-494d-bd98-3aaf9535be11",
   "metadata": {},
   "outputs": [
    {
     "data": {
      "image/png": "[encoded data removed]",
      "text/plain": [
       "<Figure size 640x480 with 1 Axes>"
      ]
     },
     "metadata": {
      "needs_background": "light"
     },
     "output_type": "display_data"
    }
   ],
   "source": [
    "plt.figure(figsize=(8, 6), dpi=80)\n",
    "plt.plot(np.arange(1, 11), train_scores, label='Training Accuracy')\n",
    "plt.plot(np.arange(1, 11), test_scores, label='Testing Accuracy')\n",
    "plt.title('k-NN: Varying Number of Neighbours')\n",
    "plt.xlabel('Number of Neighbours')\n",
    "plt.ylabel('Accuracy')\n",
    "plt.xticks(np.arange(1,11))\n",
    "plt.legend()\n",
    "plt.show()"
   ]
  },
  {
   "cell_type": "markdown",
   "id": "b3955b17-210e-4c82-afda-6f6149f9ad62",
   "metadata": {},
   "source": [
    "#### According to the results from the figure above, smaller k-values have better performance on both the training set and testing set."
   ]
  },
  {
   "cell_type": "markdown",
   "id": "31df8536-cc33-4f63-8997-4ef767082c56",
   "metadata": {},
   "source": [
    "\n",
    "## Implement Support Vector Machine"
   ]
  },
  {
   "cell_type": "code",
   "execution_count": 4,
   "id": "9abb1935-8f0f-4e6f-ad37-b7f03ef5605f",
   "metadata": {},
   "outputs": [
    {
     "name": "stdout",
     "output_type": "stream",
     "text": [
      "SVM with linear kernel:\n",
      "               precision    recall  f1-score   support\n",
      "\n",
      "           0       1.00      1.00      1.00        38\n",
      "           1       1.00      0.94      0.97        34\n",
      "           2       1.00      1.00      1.00        42\n",
      "           3       0.93      0.96      0.95        27\n",
      "           4       1.00      1.00      1.00        28\n",
      "           5       0.98      0.98      0.98        47\n",
      "           6       1.00      1.00      1.00        33\n",
      "           7       1.00      1.00      1.00        39\n",
      "           8       0.87      1.00      0.93        34\n",
      "           9       1.00      0.89      0.94        38\n",
      "\n",
      "    accuracy                           0.98       360\n",
      "   macro avg       0.98      0.98      0.98       360\n",
      "weighted avg       0.98      0.98      0.98       360\n",
      "\n"
     ]
    }
   ],
   "source": [
    "clf = make_pipeline(StandardScaler(), SVC(kernel = 'linear', gamma='auto'))\n",
    "clf.fit(x_train, y_train)\n",
    "print(\"SVM with linear kernel:\\n\", classification_report(y_test, clf.predict(x_test)))"
   ]
  },
  {
   "cell_type": "code",
   "execution_count": 6,
   "id": "e80516ef-cf11-4081-9041-d93b4301d853",
   "metadata": {},
   "outputs": [
    {
     "name": "stdout",
     "output_type": "stream",
     "text": [
      "SVM with poly kernel:\n",
      "               precision    recall  f1-score   support\n",
      "\n",
      "           0       1.00      0.97      0.99        38\n",
      "           1       1.00      0.97      0.99        34\n",
      "           2       1.00      0.90      0.95        42\n",
      "           3       1.00      0.78      0.88        27\n",
      "           4       1.00      1.00      1.00        28\n",
      "           5       0.98      0.91      0.95        47\n",
      "           6       1.00      0.97      0.98        33\n",
      "           7       1.00      0.95      0.97        39\n",
      "           8       0.60      1.00      0.75        34\n",
      "           9       0.97      0.84      0.90        38\n",
      "\n",
      "    accuracy                           0.93       360\n",
      "   macro avg       0.95      0.93      0.93       360\n",
      "weighted avg       0.96      0.93      0.94       360\n",
      "\n"
     ]
    }
   ],
   "source": [
    "svm_poly = make_pipeline(StandardScaler(), SVC(kernel = 'poly', gamma='auto'))\n",
    "svm_poly.fit(x_train, y_train)\n",
    "print(\"SVM with poly kernel:\\n\", classification_report(y_test, svm_poly.predict(x_test)))"
   ]
  },
  {
   "cell_type": "code",
   "execution_count": 8,
   "id": "8eacadc8-581e-4d23-9a10-90b1b27a6b21",
   "metadata": {},
   "outputs": [
    {
     "name": "stdout",
     "output_type": "stream",
     "text": [
      "SVM with sigmoid kernel:\n",
      "               precision    recall  f1-score   support\n",
      "\n",
      "           0       1.00      0.97      0.99        38\n",
      "           1       0.82      0.82      0.82        34\n",
      "           2       0.88      0.90      0.89        42\n",
      "           3       0.90      0.96      0.93        27\n",
      "           4       0.90      0.96      0.93        28\n",
      "           5       0.96      0.98      0.97        47\n",
      "           6       1.00      1.00      1.00        33\n",
      "           7       0.95      0.95      0.95        39\n",
      "           8       0.92      0.97      0.94        34\n",
      "           9       1.00      0.82      0.90        38\n",
      "\n",
      "    accuracy                           0.93       360\n",
      "   macro avg       0.93      0.93      0.93       360\n",
      "weighted avg       0.94      0.93      0.93       360\n",
      "\n"
     ]
    }
   ],
   "source": [
    "svm_sig = make_pipeline(StandardScaler(), SVC(kernel = 'sigmoid', gamma='auto'))\n",
    "svm_sig.fit(x_train, y_train)\n",
    "print(\"SVM with sigmoid kernel:\\n\", classification_report(y_test, svm_sig.predict(x_test)))"
   ]
  },
  {
   "cell_type": "markdown",
   "id": "9c60d8fd-2b84-41ee-85f6-0a22f4cd8551",
   "metadata": {},
   "source": [
    "#### As we can see from the above classification reports, the best kernel to use in this case is the linear kernel."
   ]
  },
  {
   "cell_type": "markdown",
   "id": "4bff2062-f09f-44f0-916c-cd45236a5a1f",
   "metadata": {},
   "source": [
    "\n",
    "## Implement Naive Bayes Classifier"
   ]
  },
  {
   "cell_type": "code",
   "execution_count": 11,
   "id": "41e55d04-6b6e-4bf3-be6a-da866acfe9f2",
   "metadata": {},
   "outputs": [
    {
     "data": {
      "text/plain": [
       "GaussianNB()"
      ]
     },
     "execution_count": 11,
     "metadata": {},
     "output_type": "execute_result"
    }
   ],
   "source": [
    "nb_clf = GaussianNB()\n",
    "nb_clf.fit(x_train, y_train)"
   ]
  },
  {
   "cell_type": "code",
   "execution_count": 12,
   "id": "88169d3c-5b41-47b4-85f2-35b2bfd355d3",
   "metadata": {},
   "outputs": [
    {
     "data": {
      "text/plain": [
       "array([[37,  0,  0,  0,  1,  0,  0,  0,  0,  0],\n",
       "       [ 0, 25,  1,  0,  0,  0,  0,  4,  4,  0],\n",
       "       [ 0,  2, 24,  0,  0,  0,  0,  0, 16,  0],\n",
       "       [ 0,  1,  0, 17,  0,  1,  0,  1,  5,  2],\n",
       "       [ 0,  0,  0,  0, 27,  0,  0,  1,  0,  0],\n",
       "       [ 0,  0,  0,  2,  0, 41,  0,  1,  1,  2],\n",
       "       [ 0,  0,  1,  0,  0,  0, 32,  0,  0,  0],\n",
       "       [ 0,  0,  0,  0,  0,  1,  0, 38,  0,  0],\n",
       "       [ 0,  0,  0,  1,  0,  0,  0,  0, 33,  0],\n",
       "       [ 0,  3,  0,  0,  1,  2,  0,  1,  7, 24]], dtype=int64)"
      ]
     },
     "execution_count": 12,
     "metadata": {},
     "output_type": "execute_result"
    }
   ],
   "source": [
    "confusion_matrix(y_test, nb_clf.predict(x_test))"
   ]
  },
  {
   "cell_type": "code",
   "execution_count": 14,
   "id": "3e878c78-2dc2-462a-b95b-41c879d4305f",
   "metadata": {},
   "outputs": [
    {
     "data": {
      "image/png": "[encoded data removed]",
      "text/plain": [
       "<Figure size 432x288 with 2 Axes>"
      ]
     },
     "metadata": {
      "needs_background": "light"
     },
     "output_type": "display_data"
    }
   ],
   "source": [
    "from sklearn.metrics import ConfusionMatrixDisplay\n",
    "ConfusionMatrixDisplay.from_predictions(y_test, nb_clf.predict(x_test))\n",
    "plt.show()"
   ]
  }
 ],
 "metadata": {
  "kernelspec": {
   "display_name": "Python 3 (ipykernel)",
   "language": "python",
   "name": "python3"
  },
  "language_info": {
   "codemirror_mode": {
    "name": "ipython",
    "version": 3
   },
   "file_extension": ".py",
   "mimetype": "text/x-python",
   "name": "python",
   "nbconvert_exporter": "python",
   "pygments_lexer": "ipython3",
   "version": "3.8.8"
  }
 },
 "nbformat": 4,
 "nbformat_minor": 5
}
